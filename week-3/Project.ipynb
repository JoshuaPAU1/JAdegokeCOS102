{
 "cells": [
  {
   "cell_type": "code",
   "execution_count": 16,
   "id": "ed6a037f-f447-4882-a7c2-85fc8c796792",
   "metadata": {},
   "outputs": [
    {
     "name": "stdout",
     "output_type": "stream",
     "text": [
      "Girls:\n",
      "Name \t| Age| Height| Score\n",
      "Evelyn\t| 17 | 5.5 | 80\n",
      "Jessica\t| 16 | 6.0 | 85\n",
      "Somto\t| 17 | 5.4 | 70\n",
      "Edith\t| 18 | 5.9 | 60\n",
      "Liza\t| 16 | 5.6 | 76\n",
      "Madonna\t| 18 | 5.5 | 66\n",
      "Waje\t| 17 | 6.1 | 87\n",
      "Tola\t| 20 | 6.0 | 95\n",
      "Aisha\t| 19 | 5.7 | 50\n",
      "Latifa\t| 17 | 5.5 | 49\n",
      "\n",
      "Boys:\n",
      "Name \t| Age|Height   |     Score\n",
      "Chinedu\t| 19 | 5.7\t|\t74\n",
      "Liam\t| 16 | 5.9\t|\t87\n",
      "Wale\t| 18 | 5.8\t|\t75\n",
      "Gbenga\t| 17 | 6.1\t|\t68\n",
      "Abiola\t| 20 | 5.9\t|\t66\n",
      "Kola\t| 19 | 5.5\t|\t78\n",
      "Kunle\t| 16 | 61\t|\t87\n",
      "George\t| 18 | 5.4\t|\t98\n",
      "Thomas\t| 17 | 5.8\t|\t54\n",
      "Wesley\t| 19 | 5.7\t|\t60\n"
     ]
    }
   ],
   "source": [
    "girls_names = [\"Evelyn\",\"Jessica\",\"Somto\",\"Edith\",\"Liza\",\"Madonna\",\"Waje\",\"Tola\",\"Aisha\",\"Latifa\"]\n",
    "girls_age = [17,16,17,18,16,18,17,20,19,17]\n",
    "girls_height = [5.5,6.0,5.4,5.9,5.6,5.5,6.1,6.0,5.7,5.5]\n",
    "girls_scores = [80,85,70,60,76,66,87,95,50,49]\n",
    "\n",
    "boys_names = [\"Chinedu\", \"Liam\", \"Wale\", \"Gbenga\", \"Abiola\", \"Kola\", \"Kunle\", \"George\", \"Thomas\", \"Wesley\"]\n",
    "boys_age = [19,16,18,17,20,19,16,18,17,19]\n",
    "boys_height = [5.7,5.9,5.8,6.1,5.9,5.5,61,5.4,5.8,5.7]\n",
    "boys_scores = [74,87,75,68,66,78,87,98,54,60]\n",
    "print(\"Girls:\")\n",
    "print(\"Name \\t| Age| Height| Score\")\n",
    "for name, age, height, score in zip(girls_names, girls_age, girls_height, girls_scores):\n",
    "    print(f\"{name}\\t| {age} | {height} | {score}\")\n",
    "\n",
    "print(\"\\nBoys:\")\n",
    "print(\"Name \\t| Age|Height   |     Score\")\n",
    "for name, age, height, score in zip(boys_names, boys_age, boys_height, boys_scores):\n",
    "    print(f\"{name}\\t| {age} | {height}\\t|\\t{score}\")"
   ]
  },
  {
   "cell_type": "code",
   "execution_count": 3,
   "id": "265ca30c-aa64-4aab-851f-4ef783ccd202",
   "metadata": {},
   "outputs": [
    {
     "name": "stdin",
     "output_type": "stream",
     "text": [
      "How many people's ATP do you want to check?:  erger\n"
     ]
    },
    {
     "ename": "ValueError",
     "evalue": "invalid literal for int() with base 10: 'erger'",
     "output_type": "error",
     "traceback": [
      "\u001b[1;31m---------------------------------------------------------------------------\u001b[0m",
      "\u001b[1;31mValueError\u001b[0m                                Traceback (most recent call last)",
      "Cell \u001b[1;32mIn[3], line 2\u001b[0m\n\u001b[0;32m      1\u001b[0m \u001b[38;5;66;03m#Project 2\u001b[39;00m\n\u001b[1;32m----> 2\u001b[0m no \u001b[38;5;241m=\u001b[39m \u001b[38;5;28mint\u001b[39m(\u001b[38;5;28minput\u001b[39m(\u001b[38;5;124m\"\u001b[39m\u001b[38;5;124mHow many people\u001b[39m\u001b[38;5;124m'\u001b[39m\u001b[38;5;124ms ATP do you want to check?: \u001b[39m\u001b[38;5;124m\"\u001b[39m))\n\u001b[0;32m      3\u001b[0m \u001b[38;5;28;01mfor\u001b[39;00m i \u001b[38;5;129;01min\u001b[39;00m \u001b[38;5;28mrange\u001b[39m(no) :\n\u001b[0;32m      4\u001b[0m     \u001b[38;5;28mprint\u001b[39m(\u001b[38;5;124m\"\u001b[39m\u001b[38;5;124mWelcome to Izifin Technology\u001b[39m\u001b[38;5;124m\"\u001b[39m)\n",
      "\u001b[1;31mValueError\u001b[0m: invalid literal for int() with base 10: 'erger'"
     ]
    }
   ],
   "source": [
    "#Project 2\n",
    "no = int(input(\"How many people's ATP do you want to check?: \"))\n",
    "for i in range(no) :\n",
    "    print(\"Welcome to Izifin Technology\")\n",
    "    name = input(\"Please enter your name: \")\n",
    "    print(\"Welcome {}\".format(name))\n",
    "    exp = int(input(\"Please enter your number of years of experience: \"))\n",
    "    age = int(input(\"Please enter your age: \"))\n",
    "\n",
    "    if exp > 25 and age >= 55:\n",
    "        print(\"{}, your ATR is N5,600,000\".format(name))\n",
    "    elif exp > 20 and age >= 45:\n",
    "        print(\"{}, your ATR is N4,485,000\".format(name))\n",
    "    elif exp > 10 and age >= 35:\n",
    "        print(\"{}, your ATP is N1,500,000\".format(name))\n",
    "    else:\n",
    "        print(\"{}, your ATR is N555,000\".format(name))"
   ]
  },
  {
   "cell_type": "code",
   "execution_count": null,
   "id": "3661d86f-8782-47a3-8790-418574b5e914",
   "metadata": {},
   "outputs": [],
   "source": []
  }
 ],
 "metadata": {
  "kernelspec": {
   "display_name": "Python 3 (ipykernel)",
   "language": "python",
   "name": "python3"
  },
  "language_info": {
   "codemirror_mode": {
    "name": "ipython",
    "version": 3
   },
   "file_extension": ".py",
   "mimetype": "text/x-python",
   "name": "python",
   "nbconvert_exporter": "python",
   "pygments_lexer": "ipython3",
   "version": "3.11.7"
  }
 },
 "nbformat": 4,
 "nbformat_minor": 5
}
