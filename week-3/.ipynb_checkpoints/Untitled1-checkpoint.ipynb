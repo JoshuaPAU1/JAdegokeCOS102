{
 "cells": [
  {
   "cell_type": "code",
   "execution_count": 1,
   "id": "ed6a037f-f447-4882-a7c2-85fc8c796792",
   "metadata": {},
   "outputs": [
    {
     "name": "stdout",
     "output_type": "stream",
     "text": [
      "Name | Age | Height | Score \n",
      "Girls:\n",
      "Name | Age | Height | Score\n",
      "Evelyn | 17 | 5.5 | 80\n",
      "Jessica | 16 | 6.0 | 85\n",
      "Somto | 17 | 5.4 | 70\n",
      "Edith | 18 | 5.9 | 60\n",
      "Liza | 16 | 5.6 | 76\n",
      "Madonna | 18 | 5.5 | 66\n",
      "Waje | 17 | 6.1 | 87\n",
      "Tola | 20 | 6.0 | 95\n",
      "Aisha | 19 | 5.7 | 50\n",
      "Latifa | 17 | 5.5 | 49\n",
      "\n",
      "Boys:\n",
      "Name | Age | Height | Score\n",
      "Chinedu | 19 | 5.7 | 74\n",
      "Liam | 16 | 5.9 | 87\n",
      "Wale | 18 | 5.8 | 75\n",
      "Gbenga | 17 | 6.1 | 68\n",
      "Abiola | 20 | 5.9 | 66\n",
      "Kola | 19 | 5.5 | 78\n",
      "Kunle | 16 | 61 | 87\n",
      "George | 18 | 5.4 | 98\n",
      "Thomas | 17 | 5.8 | 54\n",
      "Wesley | 19 | 5.7 | 60\n"
     ]
    }
   ],
   "source": [
    "girls_names = [\"Evelyn\",\"Jessica\",\"Somto\",\"Edith\",\"Liza\",\"Madonna\",\"Waje\",\"Tola\",\"Aisha\",\"Latifa\"]\n",
    "girls_age = [17,16,17,18,16,18,17,20,19,17]\n",
    "girls_height = [5.5,6.0,5.4,5.9,5.6,5.5,6.1,6.0,5.7,5.5]\n",
    "girls_scores = [80,85,70,60,76,66,87,95,50,49]\n",
    "\n",
    "boys_names = [\"Chinedu\", \"Liam\", \"Wale\", \"Gbenga\", \"Abiola\", \"Kola\", \"Kunle\", \"George\", \"Thomas\", \"Wesley\"]\n",
    "boys_age = [19,16,18,17,20,19,16,18,17,19]\n",
    "boys_height = [5.7,5.9,5.8,6.1,5.9,5.5,61,5.4,5.8,5.7]\n",
    "boys_scores = [74,87,75,68,66,78,87,98,54,60]\n",
    "print(\"Name \" \"|\" \" Age \" \"|\" \" Height \" \"|\" \" Score \")\n",
    "print(\"Girls:\")\n",
    "print(\"Name | Age | Height | Score\")\n",
    "for name, age, height, score in zip(girls_names, girls_age, girls_height, girls_scores):\n",
    "    print(f\"{name} | {age} | {height} | {score}\")\n",
    "\n",
    "print(\"\\nBoys:\")\n",
    "print(\"Name | Age | Height | Score\")\n",
    "for name, age, height, score in zip(boys_names, boys_age, boys_height, boys_scores):\n",
    "    print(f\"{name} | {age} | {height} | {score}\")"
   ]
  },
  {
   "cell_type": "code",
   "execution_count": null,
   "id": "265ca30c-aa64-4aab-851f-4ef783ccd202",
   "metadata": {},
   "outputs": [],
   "source": [
    "#Project 2\n",
    "no = int(input(\"How many people's ATP do you want to check?: \"))\n",
    "for i in range(no) :\n",
    "    print(\"Welcome to Izifin Technology\")\n",
    "    name = input(\"Please enter your name: \")\n",
    "    print(\"Welcome {}\".format(name))\n",
    "    exp = int(input(\"Please enter your number of years of experience: \"))\n",
    "    age = int(input(\"Please enter your age: \"))\n",
    "\n",
    "    if exp > 25 and age >= 55:\n",
    "        print(\"{}, your ATR is N5,600,000\".format(name))\n",
    "    elif exp > 20 and age >= 45:\n",
    "        print(\"{}, your ATR is N4,485,000\".format(name))\n",
    "    elif exp > 10 and age >= 35:\n",
    "        print(\"{}, your ATP is N1,500,000\".format(name))\n",
    "    else:\n",
    "        print(\"{}, your ATR is N555,000\".format(name))"
   ]
  },
  {
   "cell_type": "code",
   "execution_count": null,
   "id": "3661d86f-8782-47a3-8790-418574b5e914",
   "metadata": {},
   "outputs": [],
   "source": []
  }
 ],
 "metadata": {
  "kernelspec": {
   "display_name": "Python 3 (ipykernel)",
   "language": "python",
   "name": "python3"
  },
  "language_info": {
   "codemirror_mode": {
    "name": "ipython",
    "version": 3
   },
   "file_extension": ".py",
   "mimetype": "text/x-python",
   "name": "python",
   "nbconvert_exporter": "python",
   "pygments_lexer": "ipython3",
   "version": "3.11.7"
  }
 },
 "nbformat": 4,
 "nbformat_minor": 5
}
