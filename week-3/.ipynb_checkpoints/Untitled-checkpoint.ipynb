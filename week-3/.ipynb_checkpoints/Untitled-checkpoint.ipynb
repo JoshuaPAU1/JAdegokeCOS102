{
 "cells": [
  {
   "cell_type": "code",
   "execution_count": 1,
   "id": "750bc4b8-cb64-4607-b19b-aa7314a7c0fb",
   "metadata": {},
   "outputs": [
    {
     "name": "stdin",
     "output_type": "stream",
     "text": [
      "Enter name of City 1:  twalka\n",
      "Enter name of City 2:  rr\n"
     ]
    },
    {
     "name": "stdout",
     "output_type": "stream",
     "text": [
      "The name of City 1 after swapping is rr\n",
      "The name of City 2 after swapping is twalka\n"
     ]
    }
   ],
   "source": [
    "#Exercise 1\n",
    "# Python program to swap two cities\n",
    "\n",
    "# To take inputs from the user\n",
    "city_1 = input('Enter name of City 1: ')\n",
    "city_2 = input('Enter name of City 2: ')\n",
    "\n",
    "# create a temporary variable and swap the cities\n",
    "temp = city_1\n",
    "city_1 = city_2\n",
    "city_2 = temp\n",
    "\n",
    "print(f\"The name of City 1 after swapping is {city_1}\")\n",
    "print(f\"The name of City 2 after swapping is {city_2}\")"
   ]
  },
  {
   "cell_type": "code",
   "execution_count": 3,
   "id": "90a0c842-e89d-45f2-a340-c30b2f80dc2e",
   "metadata": {},
   "outputs": [
    {
     "name": "stdin",
     "output_type": "stream",
     "text": [
      "Enter a number:  2\n"
     ]
    },
    {
     "name": "stdout",
     "output_type": "stream",
     "text": [
      "Positive number\n"
     ]
    }
   ],
   "source": [
    "# Program to Check if a Number is Positive, Negative or 0\n",
    "\n",
    "num = float(input(\"Enter a number: \"))\n",
    "if num > 0:\n",
    "    print(\"Positive number\")\n",
    "elif num == 0:\n",
    "    print(\"Zero\")\n",
    "else:\n",
    "    print(\"Negative number\")"
   ]
  },
  {
   "cell_type": "code",
   "execution_count": 4,
   "id": "64225cb5-7002-452c-8399-c62371df6732",
   "metadata": {},
   "outputs": [
    {
     "name": "stdout",
     "output_type": "stream",
     "text": [
      "Welcome to the COUPE DE ESCRIVA 2023: FOOTBALL PICKS \n",
      "\n",
      "Madiba:  Chubby Obiora-Okafo\n",
      "Blue-Jays:  Christopher Uweh\n",
      "Cirok:  Alexander\n",
      "TSG Walkers:  Ikechukwu\n",
      "\n",
      "\n",
      "Madiba:  Chubby Obiora-okafo\n",
      "Blue-Jays:  Oladimeji Abaniwondea/Jeffery Awagu\n",
      "Cirok:  Timileyin Pearse/Izuako Jeremy\n",
      "TSG Walkers:  Ayomide Ojituku\n"
     ]
    }
   ],
   "source": [
    "#Exercise 3\n",
    "# COUPE DE ESCRIVA 2023: FOOTBALL PICKS\n",
    "\n",
    "print(\"Welcome to the COUPE DE ESCRIVA 2023: FOOTBALL PICKS \\n\")\n",
    "\n",
    "captain = {'Madiba: ': 'Chubby Obiora-Okafo', 'Blue-Jays: ': 'Christopher Uweh',\n",
    "'Cirok: ': 'Alexander', 'TSG Walkers: ': 'Ikechukwu'}\n",
    "\n",
    "goalkeepers = {'Madiba: ': 'Chubby Obiora-okafo',\n",
    "'Blue-Jays: ': 'Oladimeji Abaniwondea/Jeffery Awagu',\n",
    "'Cirok: ': 'Timileyin Pearse/Izuako Jeremy',\n",
    "'TSG Walkers: ': 'Ayomide Ojituku'}\n",
    "\n",
    "for pick in captain:\n",
    "    print(pick, captain[pick])\n",
    "\n",
    "print(\"\\n\")\n",
    "\n",
    "for pick in goalkeepers:\n",
    "    print(pick, goalkeepers[pick])"
   ]
  },
  {
   "cell_type": "code",
   "execution_count": null,
   "id": "96cc8a9d-f3ff-4eb0-9dd6-d4eec88bd295",
   "metadata": {},
   "outputs": [],
   "source": []
  }
 ],
 "metadata": {
  "kernelspec": {
   "display_name": "Python 3 (ipykernel)",
   "language": "python",
   "name": "python3"
  },
  "language_info": {
   "codemirror_mode": {
    "name": "ipython",
    "version": 3
   },
   "file_extension": ".py",
   "mimetype": "text/x-python",
   "name": "python",
   "nbconvert_exporter": "python",
   "pygments_lexer": "ipython3",
   "version": "3.11.7"
  }
 },
 "nbformat": 4,
 "nbformat_minor": 5
}
