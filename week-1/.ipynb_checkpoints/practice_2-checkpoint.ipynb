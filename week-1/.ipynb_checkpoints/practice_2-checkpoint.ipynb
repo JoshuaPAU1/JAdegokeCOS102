{
 "cells": [
  {
   "cell_type": "code",
   "execution_count": null,
   "id": "2921ec06-319d-42ac-b495-e3a42be15159",
   "metadata": {},
   "outputs": [],
   "source": [
    "#Python program to print strings and types\n",
    "str1 = \"Hi my name is Matthew. I am string\"\n",
    "str2 = 'Hi my name is Precious. I am also a string'\n",
    "#displaying str1 and its types\n",
    "print(str1)\n",
    "print(type(str1))\n",
    "#displaying string str2 and its type\n",
    "print(str2)\n",
    "print(type(str2))"
   ]
  }
 ],
 "metadata": {
  "kernelspec": {
   "display_name": "Python 3 (ipykernel)",
   "language": "python",
   "name": "python3"
  },
  "language_info": {
   "codemirror_mode": {
    "name": "ipython",
    "version": 3
   },
   "file_extension": ".py",
   "mimetype": "text/x-python",
   "name": "python",
   "nbconvert_exporter": "python",
   "pygments_lexer": "ipython3",
   "version": "3.11.7"
  }
 },
 "nbformat": 4,
 "nbformat_minor": 5
}
