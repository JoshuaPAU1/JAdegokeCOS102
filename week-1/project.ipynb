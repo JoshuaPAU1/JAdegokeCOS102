{
 "cells": [
  {
   "cell_type": "code",
   "execution_count": 10,
   "id": "7837afad-b038-4b52-a899-965da1415075",
   "metadata": {},
   "outputs": [
    {
     "name": "stdout",
     "output_type": "stream",
     "text": [
      "Simple Interest\n"
     ]
    },
    {
     "name": "stdin",
     "output_type": "stream",
     "text": [
      "Please input your Principal =  3\n",
      "Please input the number of years taken =  4\n",
      "Please input the rate =  5\n"
     ]
    },
    {
     "name": "stdout",
     "output_type": "stream",
     "text": [
      "The simple interest is {} 3.5999999999999996\n"
     ]
    }
   ],
   "source": [
    "print(\"Simple Interest\")\n",
    "si1 = int(input(\"Please input your Principal = \"))\n",
    "si2 = int(input(\"Please input the number of years taken = \"))\n",
    "si3 = int(input(\"Please input the rate = \"))\n",
    "SI = si1 * (1 + (si3/100) * si2)\n",
    "print(\"The simple interest is {}\",SI)\n",
    "    \n"
   ]
  },
  {
   "cell_type": "code",
   "execution_count": 13,
   "id": "ed950733-b1c9-47f4-a11f-64fd9ca6e839",
   "metadata": {},
   "outputs": [
    {
     "name": "stdout",
     "output_type": "stream",
     "text": [
      "Compound Interest\n"
     ]
    },
    {
     "name": "stdin",
     "output_type": "stream",
     "text": [
      "Please input your Principal =  2\n",
      "Please input the number of years taken =  4\n",
      "Please input the rate =  5\n",
      "Please input the number of times the interst has been taken =  6\n"
     ]
    },
    {
     "name": "stdout",
     "output_type": "stream",
     "text": [
      "The compound interest is {} 2.0251582304249505\n"
     ]
    }
   ],
   "source": [
    "print(\"Compound Interest\")\n",
    "ci1 = int(input(\"Please input your Principal = \"))\n",
    "ci2 = int(input(\"Please input the number of years taken = \"))\n",
    "ci3 = int(input(\"Please input the rate = \"))\n",
    "ci4 = int(input(\"Please input the number of times the interst has been taken = \"))\n",
    "CI = ci1 * (1 + (ci3/ci4)**(ci2*ci4))\n",
    "print(\"The compound interest is {}\",CI)"
   ]
  },
  {
   "cell_type": "code",
   "execution_count": 14,
   "id": "7c58ee34-a600-4685-ba17-70a45f20009f",
   "metadata": {},
   "outputs": [
    {
     "name": "stdout",
     "output_type": "stream",
     "text": [
      "Annuity\n"
     ]
    },
    {
     "name": "stdin",
     "output_type": "stream",
     "text": [
      "Please input your Principal =  2\n",
      "Please input the number of years taken =  3\n",
      "Please input the rate =  5\n",
      "Please input the number of times the interst has been taken =  6\n",
      "Please input the PMT =  7\n"
     ]
    },
    {
     "name": "stdout",
     "output_type": "stream",
     "text": [
      "The Annuity Plan is {} 459851.0462364418\n"
     ]
    }
   ],
   "source": [
    "print(\"Annuity\")\n",
    "a1 = int(input(\"Please input your Principal = \"))\n",
    "a2 = int(input(\"Please input the number of years taken = \"))\n",
    "a3 = int(input(\"Please input the rate = \"))\n",
    "a4 = int(input(\"Please input the number of times the interest has been taken = \"))\n",
    "a5 = int(input(\"Please input the PMT = \"))\n",
    "A = a5 * (((1 + a3/a4)**(a2 * a4)) - 1)/(a3/a4)\n",
    "print(\"The Annuity Plan is {}\",A)"
   ]
  },
  {
   "cell_type": "code",
   "execution_count": null,
   "id": "000ab6dc-ed68-44c9-a16b-a30aaf9dba4a",
   "metadata": {},
   "outputs": [],
   "source": []
  }
 ],
 "metadata": {
  "kernelspec": {
   "display_name": "Python 3 (ipykernel)",
   "language": "python",
   "name": "python3"
  },
  "language_info": {
   "codemirror_mode": {
    "name": "ipython",
    "version": 3
   },
   "file_extension": ".py",
   "mimetype": "text/x-python",
   "name": "python",
   "nbconvert_exporter": "python",
   "pygments_lexer": "ipython3",
   "version": "3.11.7"
  }
 },
 "nbformat": 4,
 "nbformat_minor": 5
}
