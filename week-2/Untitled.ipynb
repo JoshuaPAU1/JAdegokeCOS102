{
 "cells": [
  {
   "cell_type": "code",
   "execution_count": 1,
   "id": "c197a887-ac5b-45e9-92d1-9371f62246d7",
   "metadata": {},
   "outputs": [
    {
     "name": "stdout",
     "output_type": "stream",
     "text": [
      "This is a program to find the roots of the following equations:\n"
     ]
    },
    {
     "name": "stdin",
     "output_type": "stream",
     "text": [
      "Please choose an option - \n",
      "1 - Quadratic equation \n",
      "2 - Cubic equation \n",
      "3 - Quartic equation\n",
      " 1\n"
     ]
    },
    {
     "name": "stdout",
     "output_type": "stream",
     "text": [
      "Enter the coefficients of the quadratic equation (Ax^2 + Bx + C = 0):\n"
     ]
    },
    {
     "name": "stdin",
     "output_type": "stream",
     "text": [
      "Enter coefficient A:  2\n",
      "Enter coefficient B:  3\n",
      "Enter coefficient C:  4\n"
     ]
    },
    {
     "name": "stdout",
     "output_type": "stream",
     "text": [
      "Roots of the quadratic equation: [-0.75+1.19895788j -0.75-1.19895788j]\n"
     ]
    }
   ],
   "source": [
    "import numpy as np\n",
    "\n",
    "print(\"This is a program to find the roots of the following equations:\")\n",
    "input1 = int(input(\"Please choose an option - \\n1 - Quadratic equation \\n2 - Cubic equation \\n3 - Quartic equation\\n\"))\n",
    "if input1 == 1:\n",
    "    def quadratic_roots():\n",
    "        print(\"Enter the coefficients of the quadratic equation (Ax^2 + Bx + C = 0):\")\n",
    "        A = float(input(\"Enter coefficient A: \"))\n",
    "        B = float(input(\"Enter coefficient B: \"))\n",
    "        C = float(input(\"Enter coefficient C: \"))\n",
    "    \n",
    "        coefficients = [A, B, C]\n",
    "        roots = np.roots(coefficients)\n",
    "        return roots\n",
    "\n",
    "    roots = quadratic_roots()\n",
    "    print(\"Roots of the quadratic equation:\", roots)\n",
    "\n",
    "elif input1 == 2:\n",
    "    def cubic_roots():\n",
    "        print(\"Enter the coefficients of the cubic equation (Ax^3 + Bx^2 + Cx + D = 0):\")\n",
    "        A = float(input(\"Enter coefficient A: \"))\n",
    "        B = float(input(\"Enter coefficient B: \"))\n",
    "        C = float(input(\"Enter coefficient C: \"))\n",
    "        D = float(input(\"Enter coefficient D: \"))\n",
    "\n",
    "        coefficients = [A, B, C, D]\n",
    "        roots = np.roots(coefficients)\n",
    "        return roots\n",
    "    roots = cubic_roots()\n",
    "    print(\"Roots of the cubic equation:\", roots)\n",
    "elif input1 == 3:\n",
    "    def quartic_roots():\n",
    "        print(\"Enter the coefficients of the quartic equation (Ax^4 + Bx^3 + Cx^2 + Dx + E = 0):\")\n",
    "        A = float(input(\"Enter coefficient A: \"))\n",
    "        B = float(input(\"Enter coefficient B: \"))\n",
    "        C = float(input(\"Enter coefficient C: \"))\n",
    "        D = float(input(\"Enter coefficient D: \"))\n",
    "        E = float(input(\"Enter coefficient E: \"))\n",
    "        coefficients = [A, B, C, D, E]\n",
    "        roots = np.roots(coefficients)\n",
    "        return roots\n",
    "    roots = quartic_roots()\n",
    "    print(\"Roots of the quartic equation:\", roots)\n",
    "else:\n",
    "    print(\"Incorrect option\")\n"
   ]
  },
  {
   "cell_type": "code",
   "execution_count": null,
   "id": "6f162da6-033c-4233-ab03-98f2829b0cab",
   "metadata": {},
   "outputs": [],
   "source": []
  }
 ],
 "metadata": {
  "kernelspec": {
   "display_name": "Python 3 (ipykernel)",
   "language": "python",
   "name": "python3"
  },
  "language_info": {
   "codemirror_mode": {
    "name": "ipython",
    "version": 3
   },
   "file_extension": ".py",
   "mimetype": "text/x-python",
   "name": "python",
   "nbconvert_exporter": "python",
   "pygments_lexer": "ipython3",
   "version": "3.11.7"
  }
 },
 "nbformat": 4,
 "nbformat_minor": 5
}
