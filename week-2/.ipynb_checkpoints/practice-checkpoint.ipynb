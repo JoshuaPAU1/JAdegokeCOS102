{
 "cells": [
  {
   "cell_type": "code",
   "execution_count": 2,
   "id": "d154af1a-f0c7-4cb3-abcc-1a38bbe1b278",
   "metadata": {},
   "outputs": [
    {
     "name": "stdin",
     "output_type": "stream",
     "text": [
      "Enter your state of origin: Brazil\n"
     ]
    },
    {
     "name": "stdout",
     "output_type": "stream",
     "text": [
      "Your state of origin is:  Brazil\n",
      "The first character is:  B\n",
      "The characters starting from 3rd to 5th are  azi\n",
      "The string starting from 3rd character is:  azil\n",
      "State of origin two times BrazilBrazil\n"
     ]
    }
   ],
   "source": [
    "#Practice 1 - String Data type\n",
    "str = input(\"Enter your state of origin:\")\n",
    "\n",
    "print(\"Your state of origin is: \",str)\n",
    "print(\"The first character is: \", str[0])\n",
    "print(\"The characters starting from 3rd to 5th are \", str[2:5])\n",
    "print(\"The string starting from 3rd character is: \", str[2:])\n",
    "print(\"State of origin two times\", str * 2)"
   ]
  },
  {
   "cell_type": "code",
   "execution_count": 4,
   "id": "3fb9feab-a879-4cf8-bd41-75759292f50a",
   "metadata": {},
   "outputs": [
    {
     "name": "stdin",
     "output_type": "stream",
     "text": [
      "Enter mass in kilograms:  12\n"
     ]
    },
    {
     "name": "stdout",
     "output_type": "stream",
     "text": [
      "The energy equivalent to 12.0 kg of mass is 1.0785062144841811e+18 joules.\n"
     ]
    }
   ],
   "source": [
    "#Practice 2 - Numeric Data type\n",
    "#Input from user\n",
    "m = float(input(\"Enter mass in kilograms: \"))\n",
    "\n",
    "#Constant value for the speed of light in m/s\n",
    "c = 299792458\n",
    "\n",
    "#Calculating energy using Einstein's equation\n",
    "energy = m * c ** 2\n",
    "\n",
    "#Displaying the result\n",
    "print(f\"The energy equivalent to {m} kg of mass is {energy} joules.\")"
   ]
  },
  {
   "cell_type": "code",
   "execution_count": 6,
   "id": "8e368327-02f5-456e-aad8-ab3957ebf7b9",
   "metadata": {},
   "outputs": [
    {
     "name": "stdout",
     "output_type": "stream",
     "text": [
      "['Anaconda', 786, 2.23, 'Juypter', 70.2]\n",
      "Anaconda\n",
      "[786, 2.23]\n",
      "[2.23, 'Juypter', 70.2]\n",
      "[321, 'Python', 321, 'Python']\n",
      "['Anaconda', 786, 2.23, 'Juypter', 70.2, 321, 'Python']\n"
     ]
    }
   ],
   "source": [
    "#Practice 3 - List Data type\n",
    "list = ['Anaconda', 786, 2.23, 'Juypter', 70.2]\n",
    "shortlist = [321, 'Python']\n",
    "\n",
    "print(list)      #Prints complete list\n",
    "print(list[0])   #Prints first element of the list\n",
    "print(list[1:3])   #Prints elements starting from 2nd till 3rd\n",
    "print(list[2:])  #Prints elements starting from 3rd element\n",
    "print(shortlist * 2) #Prints list two times\n",
    "print(list + shortlist) #Prints concatenated lists"
   ]
  },
  {
   "cell_type": "code",
   "execution_count": 8,
   "id": "8e155f3e-7c24-4f8e-893a-b0d62b0ddf0b",
   "metadata": {},
   "outputs": [
    {
     "name": "stdout",
     "output_type": "stream",
     "text": [
      "('Ekiti', 750, 'Oshogbo', 250, 'Akure', 500)\n",
      "500\n",
      "('Oshogbo', 250)\n",
      "(250, 'Akure', 500)\n",
      "('Abeokuta', 300, 'Ogbomoso', 'Abeokuta', 300, 'Ogbomoso', 'Abeokuta', 300, 'Ogbomoso')\n",
      "('Ekiti', 750, 'Oshogbo', 250, 'Akure', 500, 'Abeokuta', 300, 'Ogbomoso')\n"
     ]
    }
   ],
   "source": [
    "#Practcie 4 - Tuple Data type\n",
    "tuple = (\"Ekiti\", 750, 'Oshogbo', 250, \"Akure\", 500)\n",
    "s_tuple = (\"Abeokuta\", 300, \"Ogbomoso\")\n",
    "#Prints the complete tuple\n",
    "print(tuple)\n",
    "#prints last element of tuple\n",
    "print(tuple[-1])\n",
    "#Prints elements of the tuple starting from 2nd till 3rd\n",
    "print(tuple[2:4])\n",
    "\n",
    "#Prints elements of the tuple starting from 3rd element\n",
    "print(tuple[3:])\n",
    "\n",
    "#Prints the contents of the tuple twice\n",
    "print(s_tuple * 3)\n",
    "\n",
    "#Prints concatenated tuples\n",
    "print(tuple + s_tuple)"
   ]
  },
  {
   "cell_type": "code",
   "execution_count": 9,
   "id": "fad046ec-3cb7-497e-831f-aa9d1e1904bc",
   "metadata": {},
   "outputs": [
    {
     "name": "stdout",
     "output_type": "stream",
     "text": [
      "False\n",
      "False\n",
      "False\n",
      "False\n",
      "True\n"
     ]
    }
   ],
   "source": [
    "#Practice 5 - Boolean Datat types\n",
    "#Returns false as game_1 is not equal to game_2\n",
    "game_1 = 2\n",
    "game_2 = 4\n",
    "print(bool(game_1 == game_2))\n",
    "#Or\n",
    "print(game_1 == game_2)\n",
    "#Returns false as val is None\n",
    "val = None\n",
    "print(bool(val))\n",
    "\n",
    "#Returns false as num is an empty sequence\n",
    "num = ()\n",
    "print(bool(num))\n",
    "\n",
    "#Returns true as age is boolean\n",
    "age = True\n",
    "print(bool(age))"
   ]
  },
  {
   "cell_type": "code",
   "execution_count": 2,
   "id": "1c466e94-a63c-425b-b994-1cc394cdd8f5",
   "metadata": {},
   "outputs": [
    {
     "name": "stdout",
     "output_type": "stream",
     "text": [
      "Grade = 70\n",
      "GPA = 4\n",
      "CGPA = 4\n"
     ]
    }
   ],
   "source": [
    "#Practice 6\n",
    "#Convert to int\n",
    "\n",
    "grade = int(70)  #grade will be 70\n",
    "gpa = int(4.9)   #gpa will be 4\n",
    "cgpa = int(\"4\")  #cgpa will be 4\n",
    "print(f\"Grade = {grade}\")\n",
    "print(f\"GPA = {gpa}\")\n",
    "print(f\"CGPA = {cgpa}\")"
   ]
  },
  {
   "cell_type": "code",
   "execution_count": 4,
   "id": "d0c15ca3-abd9-4075-b5c5-72e26818b830",
   "metadata": {},
   "outputs": [
    {
     "name": "stdout",
     "output_type": "stream",
     "text": [
      "Grade = 97.0\n",
      "GPA = 5.0\n",
      "CGPA = 4.7\n"
     ]
    }
   ],
   "source": [
    "#Practice 7\n",
    "#Convert to float\n",
    "\n",
    "grade = float(97)  \n",
    "gpa = float(5)   \n",
    "cgpa = float(\"4.7\")  \n",
    "print(f\"Grade = {grade}\")\n",
    "print(f\"GPA = {gpa}\")\n",
    "print(f\"CGPA = {cgpa}\")"
   ]
  },
  {
   "cell_type": "code",
   "execution_count": null,
   "id": "04944a09-7927-4250-ac49-b5546171e036",
   "metadata": {},
   "outputs": [],
   "source": []
  }
 ],
 "metadata": {
  "kernelspec": {
   "display_name": "Python 3 (ipykernel)",
   "language": "python",
   "name": "python3"
  },
  "language_info": {
   "codemirror_mode": {
    "name": "ipython",
    "version": 3
   },
   "file_extension": ".py",
   "mimetype": "text/x-python",
   "name": "python",
   "nbconvert_exporter": "python",
   "pygments_lexer": "ipython3",
   "version": "3.11.7"
  }
 },
 "nbformat": 4,
 "nbformat_minor": 5
}
